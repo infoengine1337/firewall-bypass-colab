{
  "nbformat": 4,
  "nbformat_minor": 0,
  "metadata": {
    "colab": {
      "provenance": [],
      "collapsed_sections": []
    },
    "kernelspec": {
      "name": "python3",
      "display_name": "Python 3"
    },
    "language_info": {
      "name": "python"
    }
  },
  "cells": [
    {
      "cell_type": "markdown",
      "source": [
        "# ファイアウォールバイパスcolab\n",
        "\n",
        "chiselを用いて TCP/UDP over HTTPによりファイアウォールをバイパスします  \n",
        "\n",
        "IPアドレスはGoogle Colabサーバのものになります  \n",
        "\n",
        "製作者はこのノートブックを利用した場合に起こりうる弊害について責任を負いません  \n"
      ],
      "metadata": {
        "id": "D9BT2Josd-kf"
      }
    },
    {
      "cell_type": "code",
      "execution_count": null,
      "metadata": {
        "id": "WnxBhIaUTCob"
      },
      "outputs": [],
      "source": [
        "## 初期化部分\n",
        "\n",
        "!curl https://i.jpillora.com/chisel! | bash\n",
        "!wget https://github.com/cloudflare/cloudflared/releases/latest/download/cloudflared-linux-amd64.deb\n",
        "!apt install -y ./cloudflared-linux-amd64.deb"
      ]
    },
    {
      "cell_type": "code",
      "source": [
        "## 実行部分\n",
        "\n",
        "!nohup chisel server --port 80 --socks5 &\n",
        "!cloudflared tunnel --url localhost:80"
      ],
      "metadata": {
        "id": "KxL25zVdTdnh"
      },
      "execution_count": null,
      "outputs": []
    },
    {
      "cell_type": "markdown",
      "source": [
        "この後、クライアント側で  \n",
        ".\\chisel.exe client https://{subdomain}.trycloudflare.com socks  \n",
        "を実行します  \n",
        "あとはクライアント側で1080ポートをsocks5プロキシとして指定すれば終了  \n"
      ],
      "metadata": {
        "id": "1yNTo1EveWeE"
      }
    }
  ]
}