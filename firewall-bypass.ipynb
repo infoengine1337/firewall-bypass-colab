{
  "nbformat": 4,
  "nbformat_minor": 0,
  "metadata": {
    "colab": {
      "provenance": [],
      "collapsed_sections": []
    },
    "kernelspec": {
      "name": "python3",
      "display_name": "Python 3"
    },
    "language_info": {
      "name": "python"
    }
  },
  "cells": [
    {
      "cell_type": "markdown",
      "source": [
        "# ファイアウォールバイパスcolab\n",
        "\n",
        "chiselを用いて TCP/UDP over HTTPによりファイアウォールをバイパスします  \n",
        "\n",
        "IPアドレスはGoogle Colabサーバのものになります  \n",
        "\n",
        "製作者はこのノートブックを利用した場合に起こりうる弊害について責任を負いません  \n"
      ],
      "metadata": {
        "id": "D9BT2Josd-kf"
      }
    },
    {
      "cell_type": "code",
      "execution_count": null,
      "metadata": {
        "id": "WnxBhIaUTCob"
      },
      "outputs": [],
      "source": [
        "## 初期化部分\n",
        "\n",
        "!apt install jq\n",
        "!curl https://i.jpillora.com/chisel! | bash\n",
        "!curl -s https://ngrok-agent.s3.amazonaws.com/ngrok.asc | sudo tee /etc/apt/trusted.gpg.d/ngrok.asc >/dev/null && echo \"deb https://ngrok-agent.s3.amazonaws.com buster main\" | sudo tee /etc/apt/sources.list.d/ngrok.list && sudo apt update && sudo apt install ngrok\n"
      ]
    },
    {
      "cell_type": "code",
      "source": [
        "## 実行部分\n",
        "\n",
        "!nohup chisel server --port 80 --socks5 &\n",
        "!nohup ngrok http 80 &\n",
        "!curl -s localhost:4040/api/tunnels | jq -r \".tunnels[0].public_url\""
      ],
      "metadata": {
        "colab": {
          "base_uri": "https://localhost:8080/"
        },
        "id": "KxL25zVdTdnh",
        "outputId": "a1847bc6-eebc-4a39-9743-d57151ea387c"
      },
      "execution_count": 41,
      "outputs": [
        {
          "output_type": "stream",
          "name": "stdout",
          "text": [
            "nohup: appending output to 'nohup.out'\n",
            "nohup: appending output to 'nohup.out'\n",
            "https://bb8d-34-86-245-168.ngrok.io\n"
          ]
        }
      ]
    },
    {
      "cell_type": "markdown",
      "source": [
        "この後、クライアント側で  \n",
        ".\\chisel.exe client https://{subdomain}.ngrok.io:443 socks  \n",
        "を実行します"
      ],
      "metadata": {
        "id": "1yNTo1EveWeE"
      }
    },
    {
      "cell_type": "code",
      "source": [
        "## 終了処理\n",
        "\n",
        "!killall chisel\n",
        "!killall ngrok"
      ],
      "metadata": {
        "id": "g1kP_RSMZKlE"
      },
      "execution_count": 48,
      "outputs": []
    }
  ]
}